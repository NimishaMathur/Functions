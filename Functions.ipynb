{
  "nbformat": 4,
  "nbformat_minor": 0,
  "metadata": {
    "colab": {
      "provenance": []
    },
    "kernelspec": {
      "name": "python3",
      "display_name": "Python 3"
    },
    "language_info": {
      "name": "python"
    }
  },
  "cells": [
    {
      "cell_type": "code",
      "execution_count": null,
      "metadata": {
        "id": "b3FYivqAYrQT"
      },
      "outputs": [],
      "source": [
        "#Q1- Write a Python function that takes a list of numbers as input and returns the sum of all even numbers in the list\n",
        "def sum_even(*num):\n",
        "  sum = 0\n",
        "  for i in num:\n",
        "    if i%2 == 0:\n",
        "      sum = sum + i\n",
        "  return sum\n"
      ]
    },
    {
      "cell_type": "code",
      "source": [
        "sum_even(11,12,13,14)"
      ],
      "metadata": {
        "colab": {
          "base_uri": "https://localhost:8080/"
        },
        "id": "hjAaebt1cjSg",
        "outputId": "28c8ad28-d0e0-4946-d88e-63e2d00d3d9b"
      },
      "execution_count": null,
      "outputs": [
        {
          "output_type": "execute_result",
          "data": {
            "text/plain": [
              "26"
            ]
          },
          "metadata": {},
          "execution_count": 2
        }
      ]
    },
    {
      "cell_type": "code",
      "source": [
        "#Q2- Create a Python function that accepts a string and returns the reverse of that string.\n",
        "def reverse(s):\n",
        "  return s[::-1]"
      ],
      "metadata": {
        "id": "u4thnzzicn4w"
      },
      "execution_count": null,
      "outputs": []
    },
    {
      "cell_type": "code",
      "source": [
        "reverse(\"pwskills\")"
      ],
      "metadata": {
        "colab": {
          "base_uri": "https://localhost:8080/",
          "height": 35
        },
        "id": "PB9sSn_ydYww",
        "outputId": "cdb1ce78-28bc-4387-a612-3ab672b1f919"
      },
      "execution_count": null,
      "outputs": [
        {
          "output_type": "execute_result",
          "data": {
            "text/plain": [
              "'sllikswp'"
            ],
            "application/vnd.google.colaboratory.intrinsic+json": {
              "type": "string"
            }
          },
          "metadata": {},
          "execution_count": 4
        }
      ]
    },
    {
      "cell_type": "code",
      "source": [
        "#Q3-  Implement a Python function that takes a list of integers and returns a new list containing the squares of each number.\n",
        "def square(*l):\n",
        "  l1 = []\n",
        "  for i in l:\n",
        "    l1.append(i**2)\n",
        "  return l1"
      ],
      "metadata": {
        "id": "xAyPY0Q6dcdb"
      },
      "execution_count": null,
      "outputs": []
    },
    {
      "cell_type": "code",
      "source": [
        "square(11,12,13,14)"
      ],
      "metadata": {
        "colab": {
          "base_uri": "https://localhost:8080/"
        },
        "id": "cvt_AHVyeA3A",
        "outputId": "7b3c0b5b-3b3c-45eb-d4e8-993bd329f69e"
      },
      "execution_count": null,
      "outputs": [
        {
          "output_type": "execute_result",
          "data": {
            "text/plain": [
              "[121, 144, 169, 196]"
            ]
          },
          "metadata": {},
          "execution_count": 6
        }
      ]
    },
    {
      "cell_type": "code",
      "source": [
        "#Q4- Write a Python function that checks if a given number is prime or not from 1 to 200.\n",
        "def is_prime(n):\n",
        "     for i in range(2, int(n**0.5) + 1):\n",
        "        if n % i == 0:\n",
        "            return False\n",
        "     else:\n",
        "      return True\n",
        "\n",
        "for number in range(1, 201):\n",
        "    if is_prime(number):\n",
        "        print(number, \"is prime\")"
      ],
      "metadata": {
        "colab": {
          "base_uri": "https://localhost:8080/"
        },
        "id": "9dJO4Rr9eDrf",
        "outputId": "68a10f0c-ca54-4b22-e9c0-58b0ed6798bb"
      },
      "execution_count": null,
      "outputs": [
        {
          "output_type": "stream",
          "name": "stdout",
          "text": [
            "1 is prime\n",
            "2 is prime\n",
            "3 is prime\n",
            "5 is prime\n",
            "7 is prime\n",
            "11 is prime\n",
            "13 is prime\n",
            "17 is prime\n",
            "19 is prime\n",
            "23 is prime\n",
            "29 is prime\n",
            "31 is prime\n",
            "37 is prime\n",
            "41 is prime\n",
            "43 is prime\n",
            "47 is prime\n",
            "53 is prime\n",
            "59 is prime\n",
            "61 is prime\n",
            "67 is prime\n",
            "71 is prime\n",
            "73 is prime\n",
            "79 is prime\n",
            "83 is prime\n",
            "89 is prime\n",
            "97 is prime\n",
            "101 is prime\n",
            "103 is prime\n",
            "107 is prime\n",
            "109 is prime\n",
            "113 is prime\n",
            "127 is prime\n",
            "131 is prime\n",
            "137 is prime\n",
            "139 is prime\n",
            "149 is prime\n",
            "151 is prime\n",
            "157 is prime\n",
            "163 is prime\n",
            "167 is prime\n",
            "173 is prime\n",
            "179 is prime\n",
            "181 is prime\n",
            "191 is prime\n",
            "193 is prime\n",
            "197 is prime\n",
            "199 is prime\n"
          ]
        }
      ]
    },
    {
      "cell_type": "code",
      "source": [
        "#Q5- Create an iterator class in Python that generates the Fibonacci sequence up to a specified number of terms.\n",
        "def fibonacci_generator():\n",
        "  a, b = 0, 1\n",
        "  while True:\n",
        "    yield a\n",
        "    a, b = b, a + b\n",
        "fib_gen = fibonacci_generator()\n",
        "for _ in range(10):\n",
        "  print(next(fib_gen))"
      ],
      "metadata": {
        "colab": {
          "base_uri": "https://localhost:8080/"
        },
        "id": "E_rPfoofha21",
        "outputId": "f764dd15-e0fc-4caf-9403-9bd3f8cbe83c"
      },
      "execution_count": null,
      "outputs": [
        {
          "output_type": "stream",
          "name": "stdout",
          "text": [
            "0\n",
            "1\n",
            "1\n",
            "2\n",
            "3\n",
            "5\n",
            "8\n",
            "13\n",
            "21\n",
            "34\n"
          ]
        }
      ]
    },
    {
      "cell_type": "code",
      "source": [
        "#Q6- Write a generator function in Python that yields the powers of 2 up to a given exponent.\n",
        "def power(p):\n",
        "  for i in range(p+1):\n",
        "    yield 2**i"
      ],
      "metadata": {
        "id": "hu0zyDrsFShS"
      },
      "execution_count": null,
      "outputs": []
    },
    {
      "cell_type": "code",
      "source": [
        "power(5)"
      ],
      "metadata": {
        "colab": {
          "base_uri": "https://localhost:8080/"
        },
        "id": "bC-J5EuWHdqI",
        "outputId": "9e004e6f-dfe1-434c-84e0-b7ea065ced81"
      },
      "execution_count": null,
      "outputs": [
        {
          "output_type": "execute_result",
          "data": {
            "text/plain": [
              "<generator object power at 0x7baa48223ed0>"
            ]
          },
          "metadata": {},
          "execution_count": 3
        }
      ]
    },
    {
      "cell_type": "code",
      "source": [
        "#Q8-  Use a lambda function in Python to sort a list of tuples based on the second element of each tuple.\n",
        "tuple_list = [(1,8),(5,3),(7,6),(2,1),(3,8)]\n",
        "sorted_list = sorted(tuple_list, key=lambda x: x[1])\n",
        "print(sorted_list)"
      ],
      "metadata": {
        "id": "FrSAYTvOHf0y",
        "colab": {
          "base_uri": "https://localhost:8080/"
        },
        "outputId": "ac22b0eb-123a-41e2-f819-68e74eafd52b"
      },
      "execution_count": 1,
      "outputs": [
        {
          "output_type": "stream",
          "name": "stdout",
          "text": [
            "[(2, 1), (5, 3), (7, 6), (1, 8), (3, 8)]\n"
          ]
        }
      ]
    },
    {
      "cell_type": "code",
      "source": [
        "#Q9- Write a Python program that uses `map()` to convert a list of temperatures from Celsius to Fahrenheit.\n",
        "cel_temp = [10,20,30,40]\n",
        "fah_temp = list(map(lambda x : (x*9/5)+32,cel_temp))\n",
        "print (fah_temp)"
      ],
      "metadata": {
        "colab": {
          "base_uri": "https://localhost:8080/"
        },
        "id": "fS6OHVfQbXDG",
        "outputId": "f90a8251-a018-492a-cc11-4797df78b5e2"
      },
      "execution_count": 2,
      "outputs": [
        {
          "output_type": "stream",
          "name": "stdout",
          "text": [
            "[50.0, 68.0, 86.0, 104.0]\n"
          ]
        }
      ]
    },
    {
      "cell_type": "code",
      "source": [
        "#Q10- Create a Python program that uses `filter()` to remove all the vowels from a given string.\n",
        "word = \"Hello World\"\n",
        "list(filter(lambda x: x not in \"aeiou\",word ))"
      ],
      "metadata": {
        "colab": {
          "base_uri": "https://localhost:8080/"
        },
        "id": "7CgNPv5ScjMi",
        "outputId": "59143585-af12-4f0f-def5-695c59fc9dd5"
      },
      "execution_count": 3,
      "outputs": [
        {
          "output_type": "execute_result",
          "data": {
            "text/plain": [
              "['H', 'l', 'l', ' ', 'W', 'r', 'l', 'd']"
            ]
          },
          "metadata": {},
          "execution_count": 3
        }
      ]
    },
    {
      "cell_type": "code",
      "source": [
        "#Q11- 11) Imagine an accounting routine used in a book shop. It works on a list with sublists.\n",
        "#Write a Python program, which returns a list with 2-tuples. Each tuple consists of the order number and the\n",
        "#product of the price per item and the quantity. The product should be increased by 10,- € if the value of the\n",
        "#order is smaller than 100,00 €.\n",
        "#Write a Python program using lambda and map.\n",
        "order_list = [(34587,(4*40.95)),(98762,(5*56.80)),(77226,(3*32.95)),(88112,(3*24.99))]\n",
        "order_list"
      ],
      "metadata": {
        "colab": {
          "base_uri": "https://localhost:8080/"
        },
        "id": "ISVQqUwYdiyz",
        "outputId": "edec4537-5244-4f62-965a-a382ef534686"
      },
      "execution_count": 4,
      "outputs": [
        {
          "output_type": "execute_result",
          "data": {
            "text/plain": [
              "[(34587, 163.8), (98762, 284.0), (77226, 98.85000000000001), (88112, 74.97)]"
            ]
          },
          "metadata": {},
          "execution_count": 4
        }
      ]
    },
    {
      "cell_type": "code",
      "source": [
        "list(map(lambda item: item[1] + 10 if item[1]<10000 else item[1], order_list))"
      ],
      "metadata": {
        "colab": {
          "base_uri": "https://localhost:8080/"
        },
        "id": "vJcVGhP4hXam",
        "outputId": "469f34e2-5ba9-4bc4-c321-9302b9d16006"
      },
      "execution_count": 5,
      "outputs": [
        {
          "output_type": "execute_result",
          "data": {
            "text/plain": [
              "[173.8, 294.0, 108.85000000000001, 84.97]"
            ]
          },
          "metadata": {},
          "execution_count": 5
        }
      ]
    },
    {
      "cell_type": "code",
      "source": [],
      "metadata": {
        "id": "bEHU6-WZha38"
      },
      "execution_count": null,
      "outputs": []
    }
  ]
}